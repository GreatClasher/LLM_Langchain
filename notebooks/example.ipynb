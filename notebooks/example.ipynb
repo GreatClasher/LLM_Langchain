{
 "cells": [
  {
   "cell_type": "code",
   "execution_count": 1,
   "metadata": {},
   "outputs": [],
   "source": [
    "from langchain.llms import OpenAI"
   ]
  },
  {
   "cell_type": "code",
   "execution_count": 8,
   "metadata": {},
   "outputs": [],
   "source": [
    "import os\n",
    "os.environ[\"OPENAI_API_KEY\"] = \"Replace your key\"\n",
    "\n",
    "llm = OpenAI(temperature=0.6)\n"
   ]
  },
  {
   "cell_type": "code",
   "execution_count": 9,
   "metadata": {},
   "outputs": [
    {
     "name": "stdout",
     "output_type": "stream",
     "text": [
      "\n",
      "\n",
      "The capital of India is New Delhi.\n"
     ]
    }
   ],
   "source": [
    "text = \"What is the capital of India\"\n",
    "print(llm.predict(text))"
   ]
  },
  {
   "cell_type": "markdown",
   "metadata": {},
   "source": [
    "## Using opensource model from huggingface "
   ]
  },
  {
   "cell_type": "code",
   "execution_count": 15,
   "metadata": {},
   "outputs": [],
   "source": [
    "os.environ[\"HUGGINGFACEHUB_API_TOKEN\"]=\"Your key\"\n",
    "from langchain import HuggingFaceHub\n",
    "llm_huggingface=HuggingFaceHub(repo_id=\"google/flan-t5-large\", model_kwargs={\"temperature\": 0, \"max_length\": 64})\n"
   ]
  },
  {
   "cell_type": "code",
   "execution_count": 16,
   "metadata": {},
   "outputs": [
    {
     "name": "stdout",
     "output_type": "stream",
     "text": [
      "Narendra Modi\n"
     ]
    }
   ],
   "source": [
    "print(llm_huggingface.predict(\"Who is the prime minister of india\"))"
   ]
  },
  {
   "cell_type": "markdown",
   "metadata": {},
   "source": [
    "### Prompt Templates"
   ]
  },
  {
   "cell_type": "code",
   "execution_count": 21,
   "metadata": {},
   "outputs": [
    {
     "data": {
      "text/plain": [
       "'Tell me the capital of this India'"
      ]
     },
     "execution_count": 21,
     "metadata": {},
     "output_type": "execute_result"
    }
   ],
   "source": [
    "from langchain.prompts import PromptTemplate\n",
    "\n",
    "prompt_template = PromptTemplate(input_variables=['country'],\n",
    "    template = \"Tell me the capital of this {country}\")\n",
    "\n",
    "prompt_template.format(country=\"India\")"
   ]
  },
  {
   "cell_type": "code",
   "execution_count": 25,
   "metadata": {},
   "outputs": [],
   "source": [
    "# llm.predict(prompt_template = prompt_template, text = [\"India\"]) # this line will give us error\n",
    "\n",
    "from langchain.chains import LLMChain\n"
   ]
  },
  {
   "cell_type": "code",
   "execution_count": 27,
   "metadata": {},
   "outputs": [
    {
     "name": "stdout",
     "output_type": "stream",
     "text": [
      "\n",
      "\n",
      "The capital of India is New Delhi.\n"
     ]
    }
   ],
   "source": [
    "chain = LLMChain(llm=llm,prompt=prompt_template)\n",
    "print(chain.run(\"India\"))"
   ]
  },
  {
   "cell_type": "markdown",
   "metadata": {},
   "source": [
    "## Combining Multiple Chains Using Simple Sequential Chain"
   ]
  },
  {
   "cell_type": "code",
   "execution_count": 29,
   "metadata": {},
   "outputs": [],
   "source": [
    "capital_template = PromptTemplate(input_variables=['country'],\n",
    "    template = \"Tell me the capital of this {country}\")\n",
    "\n",
    "capital_chain = LLMChain(llm=llm,prompt=capital_template)\n",
    "\n",
    "famous_template = PromptTemplate(input_variables=['capital'],\n",
    "    template = \"Suggest me some amazing places to visit in {capital}\")\n",
    "\n",
    "famous_chain = LLMChain(llm=llm,prompt=famous_template)"
   ]
  },
  {
   "cell_type": "code",
   "execution_count": 30,
   "metadata": {},
   "outputs": [
    {
     "data": {
      "text/plain": [
       "\" It is a vibrant and diverse city with a rich history and culture. Here are some amazing places to visit in New Delhi:\\n\\n1. Red Fort - This iconic monument is a UNESCO World Heritage Site and was the residence of Mughal emperors for nearly 200 years. It is a stunning example of Mughal architecture and is a must-visit for history buffs.\\n\\n2. Qutub Minar - Another UNESCO World Heritage Site, this 73-meter tall minaret is the tallest brick minaret in the world. It is surrounded by other historical sites and is a popular spot for tourists.\\n\\n3. India Gate - This war memorial is a symbol of India's pride and is a popular spot for picnics and evening strolls. It is also surrounded by beautiful gardens and fountains.\\n\\n4. Lotus Temple - This Bahá'í House of Worship is a stunning architectural marvel and is known for its lotus-shaped design. It is a peaceful place for meditation and reflection.\\n\\n5. Humayun's Tomb - This 16th-century mausoleum is the final resting place of Mughal Emperor Humayun and is a beautiful example of Mughal architecture. It is also a UNESCO World Heritage Site.\\n\\n6. Chandni Chowk\""
      ]
     },
     "execution_count": 30,
     "metadata": {},
     "output_type": "execute_result"
    }
   ],
   "source": [
    "from langchain.chains import SimpleSequentialChain\n",
    "chain = SimpleSequentialChain(chains=[capital_chain,famous_chain])\n",
    "chain.run(\"India\")"
   ]
  },
  {
   "cell_type": "markdown",
   "metadata": {},
   "source": [
    "## Sequential Chain"
   ]
  },
  {
   "cell_type": "code",
   "execution_count": 31,
   "metadata": {},
   "outputs": [],
   "source": [
    "capital_template = PromptTemplate(input_variables=['country'],\n",
    "    template = \"Tell me the capital of this {country}\")\n",
    "\n",
    "capital_chain = LLMChain(llm=llm,prompt=capital_template,output_key=\"capital\")\n",
    "\n",
    "famous_template = PromptTemplate(input_variables=['capital'],\n",
    "    template = \"Suggest me some amazing places to visit in {capital}\")\n",
    "\n",
    "famous_chain = LLMChain(llm=llm,prompt=famous_template,output_key=\"places\")\n"
   ]
  },
  {
   "cell_type": "code",
   "execution_count": 37,
   "metadata": {},
   "outputs": [],
   "source": [
    "from langchain.chains import SequentialChain\n",
    "chain = SequentialChain(chains=[capital_chain,famous_chain],\n",
    "    input_variables=['country'],output_variables=['capital','places'])\n"
   ]
  },
  {
   "cell_type": "code",
   "execution_count": 38,
   "metadata": {},
   "outputs": [
    {
     "data": {
      "text/plain": [
       "{'country': 'India',\n",
       " 'capital': '\\n\\nThe capital of India is New Delhi.',\n",
       " 'places': \" Some amazing places to visit in New Delhi are:\\n\\n1. Red Fort - A UNESCO World Heritage Site and one of the most iconic monuments of Delhi, the Red Fort is a must-visit for its stunning architecture and rich history.\\n\\n2. Qutub Minar - Another UNESCO World Heritage Site, the Qutub Minar is the tallest brick minaret in the world and a prime example of Indo-Islamic architecture.\\n\\n3. Humayun's Tomb - A beautiful mausoleum built in the 16th century for the Mughal emperor Humayun, this monument is a blend of Persian and Indian architectural styles.\\n\\n4. India Gate - A war memorial and a popular spot for picnics and evening strolls, India Gate is a must-visit for its grandeur and historical significance.\\n\\n5. Lotus Temple - This magnificent temple, shaped like a lotus flower, is a symbol of peace and unity and is open to people of all faiths.\\n\\n6. Akshardham Temple - A modern marvel of architecture, the Akshardham Temple is a spiritual and cultural complex that showcases India's art, culture, and heritage.\\n\\n7. Jama Masjid - One of the largest mosques in India, Jama Masjid is a stunning example of\"}"
      ]
     },
     "execution_count": 38,
     "metadata": {},
     "output_type": "execute_result"
    }
   ],
   "source": [
    "chain({'country':'India'})"
   ]
  },
  {
   "cell_type": "markdown",
   "metadata": {},
   "source": [
    "## Chatmodels with ChatOpenAI"
   ]
  },
  {
   "cell_type": "code",
   "execution_count": 39,
   "metadata": {},
   "outputs": [],
   "source": [
    "from langchain.chat_models import ChatOpenAI"
   ]
  },
  {
   "cell_type": "code",
   "execution_count": 40,
   "metadata": {},
   "outputs": [],
   "source": [
    "from langchain.schema import HumanMessage, SystemMessage, AIMessage"
   ]
  },
  {
   "cell_type": "code",
   "execution_count": 44,
   "metadata": {},
   "outputs": [],
   "source": [
    "chatllm = ChatOpenAI(temperature=0.6,model='gpt-3.5-turbo')"
   ]
  },
  {
   "cell_type": "code",
   "execution_count": 45,
   "metadata": {},
   "outputs": [
    {
     "data": {
      "text/plain": [
       "AIMessage(content='1. \"I told my wife she should embrace her mistakes. So now she\\'s wearing a T-shirt that says \\'I\\'m with Stupid\\'.\"\\n\\n2. \"I\\'m not saying my house is messy, but I just found my car keys in the fridge. Apparently, my snacks are on the go now.\"\\n\\n3. \"I tried to join a gym, but they said I needed a doctor\\'s note. I guess they thought my lack of exercise was a medical condition called \\'couch potato-itis\\'.\"\\n\\n4. \"I went to a restaurant that claimed to serve \\'fast food\\'. Well, their definition of fast must be different from mine because I waited so long that my hunger actually evolved into patience.\"\\n\\n5. \"I recently started a new diet where I only eat things that are green. Turns out, green M&Ms don\\'t count as a vegetable. Who knew?\"\\n\\n6. \"My friend asked me if I\\'m good at math. I said, \\'Well, I can count the number of times I\\'ve failed math class on one hand.\\'\"\\n\\n7. \"I went to a job interview and they asked me where I see myself in five years. I said, \\'Celebrating the fifth anniversary of you asking me this question.\\'\"\\n\\n8. \"I went to a fortune teller and she said I would come into a lot of money. So, I started looking for a job at the mint, but they said they didn\\'t need any more coin collectors.\"\\n\\n9. \"I asked my dad for his opinion on my new haircut, and he said, \\'Well, it definitely takes the attention away from your face.\\' Thanks, Dad.\"\\n\\n10. \"I tried to learn sign language, but I just couldn\\'t put my finger on it.\"')"
      ]
     },
     "execution_count": 45,
     "metadata": {},
     "output_type": "execute_result"
    }
   ],
   "source": [
    "chatllm([\n",
    "    SystemMessage(content=\"Your are a comedian AI assitatnt\"),\n",
    "    HumanMessage(content=\"Please provide some comedy punchlines\")\n",
    "])"
   ]
  },
  {
   "cell_type": "markdown",
   "metadata": {},
   "source": [
    "### Prompt Template + LLM + Output Parsers"
   ]
  },
  {
   "cell_type": "code",
   "execution_count": 47,
   "metadata": {},
   "outputs": [],
   "source": [
    "from langchain.chat_models import ChatOpenAI\n",
    "from langchain.prompts.chat import ChatPromptTemplate\n",
    "from langchain.schema import BaseOutputParser"
   ]
  },
  {
   "cell_type": "code",
   "execution_count": 55,
   "metadata": {},
   "outputs": [],
   "source": [
    "class Commaseparatedoutput(BaseOutputParser):\n",
    "    def parse(self,text:str):\n",
    "        return text.strip().split(',')"
   ]
  },
  {
   "cell_type": "code",
   "execution_count": 56,
   "metadata": {},
   "outputs": [],
   "source": [
    "template = \"You are a helpful assistant. When the user gives any input, you should generate 5 words in a comma separated list\"\n",
    "human_template = \"{text}\"\n",
    "chatprompt = ChatPromptTemplate.from_messages([\n",
    "    (\"system\",template),\n",
    "    (\"human\",human_template)\n",
    "])"
   ]
  },
  {
   "cell_type": "code",
   "execution_count": 58,
   "metadata": {},
   "outputs": [],
   "source": [
    "chain = chatprompt|chatllm|Commaseparatedoutput()"
   ]
  },
  {
   "cell_type": "code",
   "execution_count": 59,
   "metadata": {},
   "outputs": [
    {
     "data": {
      "text/plain": [
       "['Intelligent', ' Smart', ' Clever', ' Brilliant', ' Wise']"
      ]
     },
     "execution_count": 59,
     "metadata": {},
     "output_type": "execute_result"
    }
   ],
   "source": [
    "chain.invoke({\"text\":\"Intelligent\"})"
   ]
  },
  {
   "cell_type": "code",
   "execution_count": null,
   "metadata": {},
   "outputs": [],
   "source": []
  }
 ],
 "metadata": {
  "kernelspec": {
   "display_name": "Python 3",
   "language": "python",
   "name": "python3"
  },
  "language_info": {
   "codemirror_mode": {
    "name": "ipython",
    "version": 3
   },
   "file_extension": ".py",
   "mimetype": "text/x-python",
   "name": "python",
   "nbconvert_exporter": "python",
   "pygments_lexer": "ipython3",
   "version": "3.9.0"
  }
 },
 "nbformat": 4,
 "nbformat_minor": 2
}
